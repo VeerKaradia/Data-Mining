{
  "cells": [
    {
      "cell_type": "code",
      "execution_count": null,
      "id": "6a56c7a6",
      "metadata": {
        "id": "6a56c7a6"
      },
      "outputs": [],
      "source": [
        "import pandas as pd\n",
        "import numpy as np\n",
        "import datetime as dt\n",
        "import mplfinance as mpf\n",
        "import plotly.graph_objects as go\n",
        "import plotly.offline as pyo\n",
        "import re\n",
        "import matplotlib.pyplot as plt\n",
        "from textblob import TextBlob\n",
        "import plotly.express as px"
      ]
    },
    {
      "cell_type": "code",
      "execution_count": null,
      "id": "534842e1",
      "metadata": {
        "tags": [],
        "id": "534842e1"
      },
      "outputs": [],
      "source": [
        "BTC_Price = pd.read_csv(\"BTC-USD.csv\")\n",
        "Tweets = pd.read_csv(\"Bitcoin_tweets.csv\", low_memory=False)"
      ]
    },
    {
      "cell_type": "markdown",
      "id": "1b78fc13",
      "metadata": {
        "id": "1b78fc13"
      },
      "source": [
        "## Dataframe 1: Bitcoin's Price in USD over the past 8 Years"
      ]
    },
    {
      "cell_type": "markdown",
      "id": "62eb20c4",
      "metadata": {
        "id": "62eb20c4"
      },
      "source": [
        "##### Showing the columns available in the Dataframe BTC_Price"
      ]
    },
    {
      "cell_type": "code",
      "execution_count": null,
      "id": "511d0c78",
      "metadata": {
        "id": "511d0c78",
        "outputId": "03beaa94-d250-4fa3-de66-7ad8e2662cf8"
      },
      "outputs": [
        {
          "name": "stdout",
          "output_type": "stream",
          "text": [
            "------------------------\n",
            "Date\n",
            "Open\n",
            "High\n",
            "Low\n",
            "Close\n",
            "Adj Close\n",
            "Volume\n"
          ]
        }
      ],
      "source": [
        "# print(\"Column Names of BTC USD\")\n",
        "print(\"------------------------\")\n",
        "for c in BTC_Price.columns:\n",
        "  print(c)"
      ]
    },
    {
      "cell_type": "markdown",
      "id": "6965a300",
      "metadata": {
        "id": "6965a300"
      },
      "source": [
        "##### Showing the Top 5 Columns from the dataframe to understand the data"
      ]
    },
    {
      "cell_type": "code",
      "execution_count": null,
      "id": "557795df",
      "metadata": {
        "id": "557795df",
        "outputId": "f471994a-8dc7-40d1-94f1-6943eb6a07a7"
      },
      "outputs": [
        {
          "data": {
            "text/html": [
              "<div>\n",
              "<style scoped>\n",
              "    .dataframe tbody tr th:only-of-type {\n",
              "        vertical-align: middle;\n",
              "    }\n",
              "\n",
              "    .dataframe tbody tr th {\n",
              "        vertical-align: top;\n",
              "    }\n",
              "\n",
              "    .dataframe thead th {\n",
              "        text-align: right;\n",
              "    }\n",
              "</style>\n",
              "<table border=\"1\" class=\"dataframe\">\n",
              "  <thead>\n",
              "    <tr style=\"text-align: right;\">\n",
              "      <th></th>\n",
              "      <th>Date</th>\n",
              "      <th>Open</th>\n",
              "      <th>High</th>\n",
              "      <th>Low</th>\n",
              "      <th>Close</th>\n",
              "      <th>Adj Close</th>\n",
              "      <th>Volume</th>\n",
              "    </tr>\n",
              "  </thead>\n",
              "  <tbody>\n",
              "    <tr>\n",
              "      <th>0</th>\n",
              "      <td>2014-09-17</td>\n",
              "      <td>465.864014</td>\n",
              "      <td>468.174011</td>\n",
              "      <td>452.421997</td>\n",
              "      <td>457.334015</td>\n",
              "      <td>457.334015</td>\n",
              "      <td>21056800.0</td>\n",
              "    </tr>\n",
              "    <tr>\n",
              "      <th>1</th>\n",
              "      <td>2014-09-18</td>\n",
              "      <td>456.859985</td>\n",
              "      <td>456.859985</td>\n",
              "      <td>413.104004</td>\n",
              "      <td>424.440002</td>\n",
              "      <td>424.440002</td>\n",
              "      <td>34483200.0</td>\n",
              "    </tr>\n",
              "    <tr>\n",
              "      <th>2</th>\n",
              "      <td>2014-09-19</td>\n",
              "      <td>424.102997</td>\n",
              "      <td>427.834991</td>\n",
              "      <td>384.532013</td>\n",
              "      <td>394.795990</td>\n",
              "      <td>394.795990</td>\n",
              "      <td>37919700.0</td>\n",
              "    </tr>\n",
              "    <tr>\n",
              "      <th>3</th>\n",
              "      <td>2014-09-20</td>\n",
              "      <td>394.673004</td>\n",
              "      <td>423.295990</td>\n",
              "      <td>389.882996</td>\n",
              "      <td>408.903992</td>\n",
              "      <td>408.903992</td>\n",
              "      <td>36863600.0</td>\n",
              "    </tr>\n",
              "    <tr>\n",
              "      <th>4</th>\n",
              "      <td>2014-09-21</td>\n",
              "      <td>408.084991</td>\n",
              "      <td>412.425995</td>\n",
              "      <td>393.181000</td>\n",
              "      <td>398.821014</td>\n",
              "      <td>398.821014</td>\n",
              "      <td>26580100.0</td>\n",
              "    </tr>\n",
              "  </tbody>\n",
              "</table>\n",
              "</div>"
            ],
            "text/plain": [
              "         Date        Open        High         Low       Close   Adj Close  \\\n",
              "0  2014-09-17  465.864014  468.174011  452.421997  457.334015  457.334015   \n",
              "1  2014-09-18  456.859985  456.859985  413.104004  424.440002  424.440002   \n",
              "2  2014-09-19  424.102997  427.834991  384.532013  394.795990  394.795990   \n",
              "3  2014-09-20  394.673004  423.295990  389.882996  408.903992  408.903992   \n",
              "4  2014-09-21  408.084991  412.425995  393.181000  398.821014  398.821014   \n",
              "\n",
              "       Volume  \n",
              "0  21056800.0  \n",
              "1  34483200.0  \n",
              "2  37919700.0  \n",
              "3  36863600.0  \n",
              "4  26580100.0  "
            ]
          },
          "execution_count": 43,
          "metadata": {},
          "output_type": "execute_result"
        }
      ],
      "source": [
        "BTC_Price.head()"
      ]
    },
    {
      "cell_type": "markdown",
      "id": "5f68164b",
      "metadata": {
        "id": "5f68164b"
      },
      "source": [
        "#### Checking the Dimensions of the Dataframe"
      ]
    },
    {
      "cell_type": "code",
      "execution_count": null,
      "id": "5546a0e6",
      "metadata": {
        "scrolled": true,
        "id": "5546a0e6",
        "outputId": "4827baad-9b6d-4d8f-c628-fd052b95d5f8"
      },
      "outputs": [
        {
          "data": {
            "text/plain": [
              "(2722, 7)"
            ]
          },
          "execution_count": 9,
          "metadata": {},
          "output_type": "execute_result"
        }
      ],
      "source": [
        "BTC_Price.shape"
      ]
    },
    {
      "cell_type": "markdown",
      "id": "14133785",
      "metadata": {
        "id": "14133785"
      },
      "source": [
        "##### Showing some statistical summary of the dataframe"
      ]
    },
    {
      "cell_type": "code",
      "execution_count": null,
      "id": "c608c6b6",
      "metadata": {
        "id": "c608c6b6",
        "outputId": "563e68c8-ac2b-414d-8ede-6c6d843f1c6a"
      },
      "outputs": [
        {
          "data": {
            "text/html": [
              "<div>\n",
              "<style scoped>\n",
              "    .dataframe tbody tr th:only-of-type {\n",
              "        vertical-align: middle;\n",
              "    }\n",
              "\n",
              "    .dataframe tbody tr th {\n",
              "        vertical-align: top;\n",
              "    }\n",
              "\n",
              "    .dataframe thead th {\n",
              "        text-align: right;\n",
              "    }\n",
              "</style>\n",
              "<table border=\"1\" class=\"dataframe\">\n",
              "  <thead>\n",
              "    <tr style=\"text-align: right;\">\n",
              "      <th></th>\n",
              "      <th>Open</th>\n",
              "      <th>High</th>\n",
              "      <th>Low</th>\n",
              "      <th>Close</th>\n",
              "      <th>Adj Close</th>\n",
              "      <th>Volume</th>\n",
              "    </tr>\n",
              "  </thead>\n",
              "  <tbody>\n",
              "    <tr>\n",
              "      <th>count</th>\n",
              "      <td>2721.000000</td>\n",
              "      <td>2721.000000</td>\n",
              "      <td>2721.000000</td>\n",
              "      <td>2721.000000</td>\n",
              "      <td>2721.000000</td>\n",
              "      <td>2.721000e+03</td>\n",
              "    </tr>\n",
              "    <tr>\n",
              "      <th>mean</th>\n",
              "      <td>11390.914284</td>\n",
              "      <td>11696.114806</td>\n",
              "      <td>11052.436301</td>\n",
              "      <td>11402.876574</td>\n",
              "      <td>11402.876574</td>\n",
              "      <td>1.473499e+10</td>\n",
              "    </tr>\n",
              "    <tr>\n",
              "      <th>std</th>\n",
              "      <td>16149.953466</td>\n",
              "      <td>16581.711792</td>\n",
              "      <td>15649.920510</td>\n",
              "      <td>16152.314650</td>\n",
              "      <td>16152.314650</td>\n",
              "      <td>2.000117e+10</td>\n",
              "    </tr>\n",
              "    <tr>\n",
              "      <th>min</th>\n",
              "      <td>176.897003</td>\n",
              "      <td>211.731003</td>\n",
              "      <td>171.509995</td>\n",
              "      <td>178.102997</td>\n",
              "      <td>178.102997</td>\n",
              "      <td>5.914570e+06</td>\n",
              "    </tr>\n",
              "    <tr>\n",
              "      <th>25%</th>\n",
              "      <td>607.005005</td>\n",
              "      <td>609.734985</td>\n",
              "      <td>604.606995</td>\n",
              "      <td>606.973022</td>\n",
              "      <td>606.973022</td>\n",
              "      <td>8.026580e+07</td>\n",
              "    </tr>\n",
              "    <tr>\n",
              "      <th>50%</th>\n",
              "      <td>6330.770020</td>\n",
              "      <td>6446.259766</td>\n",
              "      <td>6236.470215</td>\n",
              "      <td>6329.950195</td>\n",
              "      <td>6329.950195</td>\n",
              "      <td>5.127130e+09</td>\n",
              "    </tr>\n",
              "    <tr>\n",
              "      <th>75%</th>\n",
              "      <td>10535.492188</td>\n",
              "      <td>10798.729492</td>\n",
              "      <td>10234.576172</td>\n",
              "      <td>10549.329102</td>\n",
              "      <td>10549.329102</td>\n",
              "      <td>2.460973e+10</td>\n",
              "    </tr>\n",
              "    <tr>\n",
              "      <th>max</th>\n",
              "      <td>67549.734375</td>\n",
              "      <td>68789.625000</td>\n",
              "      <td>66382.062500</td>\n",
              "      <td>67566.828125</td>\n",
              "      <td>67566.828125</td>\n",
              "      <td>3.509679e+11</td>\n",
              "    </tr>\n",
              "  </tbody>\n",
              "</table>\n",
              "</div>"
            ],
            "text/plain": [
              "               Open          High           Low         Close     Adj Close  \\\n",
              "count   2721.000000   2721.000000   2721.000000   2721.000000   2721.000000   \n",
              "mean   11390.914284  11696.114806  11052.436301  11402.876574  11402.876574   \n",
              "std    16149.953466  16581.711792  15649.920510  16152.314650  16152.314650   \n",
              "min      176.897003    211.731003    171.509995    178.102997    178.102997   \n",
              "25%      607.005005    609.734985    604.606995    606.973022    606.973022   \n",
              "50%     6330.770020   6446.259766   6236.470215   6329.950195   6329.950195   \n",
              "75%    10535.492188  10798.729492  10234.576172  10549.329102  10549.329102   \n",
              "max    67549.734375  68789.625000  66382.062500  67566.828125  67566.828125   \n",
              "\n",
              "             Volume  \n",
              "count  2.721000e+03  \n",
              "mean   1.473499e+10  \n",
              "std    2.000117e+10  \n",
              "min    5.914570e+06  \n",
              "25%    8.026580e+07  \n",
              "50%    5.127130e+09  \n",
              "75%    2.460973e+10  \n",
              "max    3.509679e+11  "
            ]
          },
          "execution_count": 10,
          "metadata": {},
          "output_type": "execute_result"
        }
      ],
      "source": [
        "BTC_Price.describe()"
      ]
    },
    {
      "cell_type": "markdown",
      "id": "b56eb068",
      "metadata": {
        "id": "b56eb068"
      },
      "source": [
        "##### Mutating Columns for Month and Year"
      ]
    },
    {
      "cell_type": "code",
      "execution_count": null,
      "id": "e6f94f2c",
      "metadata": {
        "id": "e6f94f2c"
      },
      "outputs": [],
      "source": [
        "BTC_Price['Date'] = pd.to_datetime(BTC_Price['Date'])\n",
        "\n",
        "BTC_Price['Year'] = pd.DatetimeIndex(BTC_Price['Date']).year\n",
        "BTC_Price['Month'] = pd.DatetimeIndex(BTC_Price['Date']).month"
      ]
    },
    {
      "cell_type": "markdown",
      "id": "afe1ac60",
      "metadata": {
        "id": "afe1ac60"
      },
      "source": [
        "##### Showing the count of NA Values in all the columns"
      ]
    },
    {
      "cell_type": "code",
      "execution_count": null,
      "id": "5e1d1f72",
      "metadata": {
        "scrolled": true,
        "id": "5e1d1f72",
        "outputId": "9ffc4a53-3cb7-406f-ed35-c959356e72c9"
      },
      "outputs": [
        {
          "data": {
            "text/plain": [
              "Date         0\n",
              "Open         1\n",
              "High         1\n",
              "Low          1\n",
              "Close        1\n",
              "Adj Close    1\n",
              "Volume       1\n",
              "Year         0\n",
              "Month        0\n",
              "dtype: int64"
            ]
          },
          "execution_count": 12,
          "metadata": {},
          "output_type": "execute_result"
        }
      ],
      "source": [
        "BTC_Price.isna().sum()"
      ]
    },
    {
      "cell_type": "markdown",
      "id": "f0196951",
      "metadata": {
        "id": "f0196951"
      },
      "source": [
        "##### Fixing the NA Values as the last entry didn't have any price data."
      ]
    },
    {
      "cell_type": "code",
      "execution_count": null,
      "id": "ce492161",
      "metadata": {
        "id": "ce492161"
      },
      "outputs": [],
      "source": [
        "BTC_Price = BTC_Price.iloc[:-1 , :]"
      ]
    },
    {
      "cell_type": "markdown",
      "id": "372c83d4",
      "metadata": {
        "id": "372c83d4"
      },
      "source": [
        "##### Showing the count of NA Values in all the columns after fixing the data."
      ]
    },
    {
      "cell_type": "code",
      "execution_count": null,
      "id": "222f543f",
      "metadata": {
        "scrolled": true,
        "id": "222f543f",
        "outputId": "a5a60a3d-2907-42a6-8683-4cba6fb268c2"
      },
      "outputs": [
        {
          "data": {
            "text/plain": [
              "Date         0\n",
              "Open         0\n",
              "High         0\n",
              "Low          0\n",
              "Close        0\n",
              "Adj Close    0\n",
              "Volume       0\n",
              "Year         0\n",
              "Month        0\n",
              "dtype: int64"
            ]
          },
          "execution_count": 14,
          "metadata": {},
          "output_type": "execute_result"
        }
      ],
      "source": [
        "BTC_Price.isna().sum()"
      ]
    },
    {
      "cell_type": "markdown",
      "id": "565a94a4",
      "metadata": {
        "id": "565a94a4"
      },
      "source": [
        "##### Dropping the Column of Adjusted Close as it is the same as the column named Close"
      ]
    },
    {
      "cell_type": "code",
      "execution_count": null,
      "id": "1c3f1e2d",
      "metadata": {
        "id": "1c3f1e2d"
      },
      "outputs": [],
      "source": [
        "BTC_Price = BTC_Price.drop(['Adj Close'], axis = 1)"
      ]
    },
    {
      "cell_type": "markdown",
      "id": "7f4a1fde",
      "metadata": {
        "id": "7f4a1fde"
      },
      "source": [
        "##### Showing the final Dataframe for Bitcoin's Price"
      ]
    },
    {
      "cell_type": "code",
      "execution_count": null,
      "id": "415b48b7",
      "metadata": {
        "id": "415b48b7",
        "outputId": "745b611c-1cec-46d6-ca8d-7c7ac2831672"
      },
      "outputs": [
        {
          "data": {
            "text/html": [
              "<div>\n",
              "<style scoped>\n",
              "    .dataframe tbody tr th:only-of-type {\n",
              "        vertical-align: middle;\n",
              "    }\n",
              "\n",
              "    .dataframe tbody tr th {\n",
              "        vertical-align: top;\n",
              "    }\n",
              "\n",
              "    .dataframe thead th {\n",
              "        text-align: right;\n",
              "    }\n",
              "</style>\n",
              "<table border=\"1\" class=\"dataframe\">\n",
              "  <thead>\n",
              "    <tr style=\"text-align: right;\">\n",
              "      <th></th>\n",
              "      <th>Date</th>\n",
              "      <th>Open</th>\n",
              "      <th>High</th>\n",
              "      <th>Low</th>\n",
              "      <th>Close</th>\n",
              "      <th>Volume</th>\n",
              "      <th>Year</th>\n",
              "      <th>Month</th>\n",
              "    </tr>\n",
              "  </thead>\n",
              "  <tbody>\n",
              "    <tr>\n",
              "      <th>0</th>\n",
              "      <td>2014-09-17</td>\n",
              "      <td>465.864014</td>\n",
              "      <td>468.174011</td>\n",
              "      <td>452.421997</td>\n",
              "      <td>457.334015</td>\n",
              "      <td>21056800.0</td>\n",
              "      <td>2014</td>\n",
              "      <td>9</td>\n",
              "    </tr>\n",
              "    <tr>\n",
              "      <th>1</th>\n",
              "      <td>2014-09-18</td>\n",
              "      <td>456.859985</td>\n",
              "      <td>456.859985</td>\n",
              "      <td>413.104004</td>\n",
              "      <td>424.440002</td>\n",
              "      <td>34483200.0</td>\n",
              "      <td>2014</td>\n",
              "      <td>9</td>\n",
              "    </tr>\n",
              "    <tr>\n",
              "      <th>2</th>\n",
              "      <td>2014-09-19</td>\n",
              "      <td>424.102997</td>\n",
              "      <td>427.834991</td>\n",
              "      <td>384.532013</td>\n",
              "      <td>394.795990</td>\n",
              "      <td>37919700.0</td>\n",
              "      <td>2014</td>\n",
              "      <td>9</td>\n",
              "    </tr>\n",
              "    <tr>\n",
              "      <th>3</th>\n",
              "      <td>2014-09-20</td>\n",
              "      <td>394.673004</td>\n",
              "      <td>423.295990</td>\n",
              "      <td>389.882996</td>\n",
              "      <td>408.903992</td>\n",
              "      <td>36863600.0</td>\n",
              "      <td>2014</td>\n",
              "      <td>9</td>\n",
              "    </tr>\n",
              "    <tr>\n",
              "      <th>4</th>\n",
              "      <td>2014-09-21</td>\n",
              "      <td>408.084991</td>\n",
              "      <td>412.425995</td>\n",
              "      <td>393.181000</td>\n",
              "      <td>398.821014</td>\n",
              "      <td>26580100.0</td>\n",
              "      <td>2014</td>\n",
              "      <td>9</td>\n",
              "    </tr>\n",
              "  </tbody>\n",
              "</table>\n",
              "</div>"
            ],
            "text/plain": [
              "        Date        Open        High         Low       Close      Volume  \\\n",
              "0 2014-09-17  465.864014  468.174011  452.421997  457.334015  21056800.0   \n",
              "1 2014-09-18  456.859985  456.859985  413.104004  424.440002  34483200.0   \n",
              "2 2014-09-19  424.102997  427.834991  384.532013  394.795990  37919700.0   \n",
              "3 2014-09-20  394.673004  423.295990  389.882996  408.903992  36863600.0   \n",
              "4 2014-09-21  408.084991  412.425995  393.181000  398.821014  26580100.0   \n",
              "\n",
              "   Year  Month  \n",
              "0  2014      9  \n",
              "1  2014      9  \n",
              "2  2014      9  \n",
              "3  2014      9  \n",
              "4  2014      9  "
            ]
          },
          "execution_count": 47,
          "metadata": {},
          "output_type": "execute_result"
        }
      ],
      "source": [
        "BTC_Price.head()"
      ]
    },
    {
      "cell_type": "code",
      "execution_count": null,
      "id": "8958ea7f-d63b-4e05-b470-543486161a71",
      "metadata": {
        "tags": [],
        "id": "8958ea7f-d63b-4e05-b470-543486161a71"
      },
      "outputs": [],
      "source": [
        "# Exporting the cleaned Dataframe\n",
        "\n",
        "BTC_Price.to_csv('Cleaned_Price.csv')"
      ]
    },
    {
      "cell_type": "markdown",
      "id": "8414e388",
      "metadata": {
        "id": "8414e388"
      },
      "source": [
        "## Dataframe 2: Tweets made about Bitcoins in the past year."
      ]
    },
    {
      "cell_type": "markdown",
      "id": "c0003618",
      "metadata": {
        "id": "c0003618"
      },
      "source": [
        "##### Showing the columns available in the Dataframe"
      ]
    },
    {
      "cell_type": "code",
      "execution_count": null,
      "id": "c1acd941",
      "metadata": {
        "scrolled": true,
        "id": "c1acd941",
        "outputId": "2cffc9e6-b765-4ff2-ec27-859db3ae5002"
      },
      "outputs": [
        {
          "name": "stdout",
          "output_type": "stream",
          "text": [
            "user_name\n",
            "user_location\n",
            "user_description\n",
            "user_created\n",
            "user_followers\n",
            "user_friends\n",
            "user_favourites\n",
            "user_verified\n",
            "date\n",
            "text\n",
            "hashtags\n",
            "source\n",
            "is_retweet\n"
          ]
        }
      ],
      "source": [
        "for col in Tweets.columns:\n",
        "    print(col)"
      ]
    },
    {
      "cell_type": "markdown",
      "id": "ecfd02eb",
      "metadata": {
        "id": "ecfd02eb"
      },
      "source": [
        "##### Showing the Top 5 Rows of the Dataframe to get an idea of the content"
      ]
    },
    {
      "cell_type": "code",
      "execution_count": null,
      "id": "dab08715",
      "metadata": {
        "id": "dab08715",
        "outputId": "7d32a53e-b27f-4cc8-be00-70e9f0b1f24a"
      },
      "outputs": [
        {
          "data": {
            "text/html": [
              "<div>\n",
              "<style scoped>\n",
              "    .dataframe tbody tr th:only-of-type {\n",
              "        vertical-align: middle;\n",
              "    }\n",
              "\n",
              "    .dataframe tbody tr th {\n",
              "        vertical-align: top;\n",
              "    }\n",
              "\n",
              "    .dataframe thead th {\n",
              "        text-align: right;\n",
              "    }\n",
              "</style>\n",
              "<table border=\"1\" class=\"dataframe\">\n",
              "  <thead>\n",
              "    <tr style=\"text-align: right;\">\n",
              "      <th></th>\n",
              "      <th>user_name</th>\n",
              "      <th>user_location</th>\n",
              "      <th>user_description</th>\n",
              "      <th>user_created</th>\n",
              "      <th>user_followers</th>\n",
              "      <th>user_friends</th>\n",
              "      <th>user_favourites</th>\n",
              "      <th>user_verified</th>\n",
              "      <th>date</th>\n",
              "      <th>text</th>\n",
              "      <th>hashtags</th>\n",
              "      <th>source</th>\n",
              "      <th>is_retweet</th>\n",
              "    </tr>\n",
              "  </thead>\n",
              "  <tbody>\n",
              "    <tr>\n",
              "      <th>0</th>\n",
              "      <td>DeSota Wilson</td>\n",
              "      <td>Atlanta, GA</td>\n",
              "      <td>Biz Consultant, real estate, fintech, startups...</td>\n",
              "      <td>2009-04-26 20:05:09</td>\n",
              "      <td>8534.0</td>\n",
              "      <td>7605</td>\n",
              "      <td>4838</td>\n",
              "      <td>False</td>\n",
              "      <td>2021-02-10 23:59:04</td>\n",
              "      <td>Blue Ridge Bank shares halted by NYSE after #b...</td>\n",
              "      <td>['bitcoin']</td>\n",
              "      <td>Twitter Web App</td>\n",
              "      <td>False</td>\n",
              "    </tr>\n",
              "    <tr>\n",
              "      <th>1</th>\n",
              "      <td>CryptoND</td>\n",
              "      <td>NaN</td>\n",
              "      <td>😎 BITCOINLIVE is a Dutch platform aimed at inf...</td>\n",
              "      <td>2019-10-17 20:12:10</td>\n",
              "      <td>6769.0</td>\n",
              "      <td>1532</td>\n",
              "      <td>25483</td>\n",
              "      <td>False</td>\n",
              "      <td>2021-02-10 23:58:48</td>\n",
              "      <td>😎 Today, that's this #Thursday, we will do a \"...</td>\n",
              "      <td>['Thursday', 'Btc', 'wallet', 'security']</td>\n",
              "      <td>Twitter for Android</td>\n",
              "      <td>False</td>\n",
              "    </tr>\n",
              "    <tr>\n",
              "      <th>2</th>\n",
              "      <td>Tdlmatias</td>\n",
              "      <td>London, England</td>\n",
              "      <td>IM Academy : The best #forex, #SelfEducation, ...</td>\n",
              "      <td>2014-11-10 10:50:37</td>\n",
              "      <td>128.0</td>\n",
              "      <td>332</td>\n",
              "      <td>924</td>\n",
              "      <td>False</td>\n",
              "      <td>2021-02-10 23:54:48</td>\n",
              "      <td>Guys evening, I have read this article about B...</td>\n",
              "      <td>NaN</td>\n",
              "      <td>Twitter Web App</td>\n",
              "      <td>False</td>\n",
              "    </tr>\n",
              "    <tr>\n",
              "      <th>3</th>\n",
              "      <td>Crypto is the future</td>\n",
              "      <td>NaN</td>\n",
              "      <td>I will post a lot of buying signals for BTC tr...</td>\n",
              "      <td>2019-09-28 16:48:12</td>\n",
              "      <td>625.0</td>\n",
              "      <td>129</td>\n",
              "      <td>14</td>\n",
              "      <td>False</td>\n",
              "      <td>2021-02-10 23:54:33</td>\n",
              "      <td>$BTC A big chance in a billion! Price: \\487264...</td>\n",
              "      <td>['Bitcoin', 'FX', 'BTC', 'crypto']</td>\n",
              "      <td>dlvr.it</td>\n",
              "      <td>False</td>\n",
              "    </tr>\n",
              "    <tr>\n",
              "      <th>4</th>\n",
              "      <td>Alex Kirchmaier 🇦🇹🇸🇪 #FactsSuperspreader</td>\n",
              "      <td>Europa</td>\n",
              "      <td>Co-founder @RENJERJerky | Forbes 30Under30 | I...</td>\n",
              "      <td>2016-02-03 13:15:55</td>\n",
              "      <td>1249.0</td>\n",
              "      <td>1472</td>\n",
              "      <td>10482</td>\n",
              "      <td>False</td>\n",
              "      <td>2021-02-10 23:54:06</td>\n",
              "      <td>This network is secured by 9 508 nodes as of t...</td>\n",
              "      <td>['BTC']</td>\n",
              "      <td>Twitter Web App</td>\n",
              "      <td>False</td>\n",
              "    </tr>\n",
              "  </tbody>\n",
              "</table>\n",
              "</div>"
            ],
            "text/plain": [
              "                                  user_name    user_location  \\\n",
              "0                             DeSota Wilson      Atlanta, GA   \n",
              "1                                  CryptoND              NaN   \n",
              "2                                 Tdlmatias  London, England   \n",
              "3                      Crypto is the future              NaN   \n",
              "4  Alex Kirchmaier 🇦🇹🇸🇪 #FactsSuperspreader           Europa   \n",
              "\n",
              "                                    user_description         user_created  \\\n",
              "0  Biz Consultant, real estate, fintech, startups...  2009-04-26 20:05:09   \n",
              "1  😎 BITCOINLIVE is a Dutch platform aimed at inf...  2019-10-17 20:12:10   \n",
              "2  IM Academy : The best #forex, #SelfEducation, ...  2014-11-10 10:50:37   \n",
              "3  I will post a lot of buying signals for BTC tr...  2019-09-28 16:48:12   \n",
              "4  Co-founder @RENJERJerky | Forbes 30Under30 | I...  2016-02-03 13:15:55   \n",
              "\n",
              "   user_followers user_friends user_favourites user_verified  \\\n",
              "0          8534.0         7605            4838         False   \n",
              "1          6769.0         1532           25483         False   \n",
              "2           128.0          332             924         False   \n",
              "3           625.0          129              14         False   \n",
              "4          1249.0         1472           10482         False   \n",
              "\n",
              "                  date                                               text  \\\n",
              "0  2021-02-10 23:59:04  Blue Ridge Bank shares halted by NYSE after #b...   \n",
              "1  2021-02-10 23:58:48  😎 Today, that's this #Thursday, we will do a \"...   \n",
              "2  2021-02-10 23:54:48  Guys evening, I have read this article about B...   \n",
              "3  2021-02-10 23:54:33  $BTC A big chance in a billion! Price: \\487264...   \n",
              "4  2021-02-10 23:54:06  This network is secured by 9 508 nodes as of t...   \n",
              "\n",
              "                                    hashtags               source is_retweet  \n",
              "0                                ['bitcoin']      Twitter Web App      False  \n",
              "1  ['Thursday', 'Btc', 'wallet', 'security']  Twitter for Android      False  \n",
              "2                                        NaN      Twitter Web App      False  \n",
              "3         ['Bitcoin', 'FX', 'BTC', 'crypto']              dlvr.it      False  \n",
              "4                                    ['BTC']      Twitter Web App      False  "
            ]
          },
          "execution_count": 21,
          "metadata": {},
          "output_type": "execute_result"
        }
      ],
      "source": [
        "Tweets.head(5)"
      ]
    },
    {
      "cell_type": "markdown",
      "id": "0c96e907",
      "metadata": {
        "id": "0c96e907"
      },
      "source": [
        "##### Showing the dimensions of the Dataframe"
      ]
    },
    {
      "cell_type": "code",
      "execution_count": null,
      "id": "4a359d59",
      "metadata": {
        "id": "4a359d59",
        "outputId": "0f1a67a4-4caa-44c4-e68c-898964ca28f9"
      },
      "outputs": [
        {
          "data": {
            "text/plain": [
              "(2339177, 13)"
            ]
          },
          "execution_count": 22,
          "metadata": {},
          "output_type": "execute_result"
        }
      ],
      "source": [
        "Tweets.shape"
      ]
    },
    {
      "cell_type": "markdown",
      "id": "854fb6c0",
      "metadata": {
        "id": "854fb6c0"
      },
      "source": [
        "##### Describing the statistical data of the number of followers a user has."
      ]
    },
    {
      "cell_type": "code",
      "execution_count": null,
      "id": "85bdf04b",
      "metadata": {
        "id": "85bdf04b",
        "outputId": "b9745dab-cb02-40fa-9401-4984ba95c130"
      },
      "outputs": [
        {
          "data": {
            "text/html": [
              "<div>\n",
              "<style scoped>\n",
              "    .dataframe tbody tr th:only-of-type {\n",
              "        vertical-align: middle;\n",
              "    }\n",
              "\n",
              "    .dataframe tbody tr th {\n",
              "        vertical-align: top;\n",
              "    }\n",
              "\n",
              "    .dataframe thead th {\n",
              "        text-align: right;\n",
              "    }\n",
              "</style>\n",
              "<table border=\"1\" class=\"dataframe\">\n",
              "  <thead>\n",
              "    <tr style=\"text-align: right;\">\n",
              "      <th></th>\n",
              "      <th>user_followers</th>\n",
              "    </tr>\n",
              "  </thead>\n",
              "  <tbody>\n",
              "    <tr>\n",
              "      <th>count</th>\n",
              "      <td>2.339114e+06</td>\n",
              "    </tr>\n",
              "    <tr>\n",
              "      <th>mean</th>\n",
              "      <td>8.607641e+03</td>\n",
              "    </tr>\n",
              "    <tr>\n",
              "      <th>std</th>\n",
              "      <td>1.096670e+05</td>\n",
              "    </tr>\n",
              "    <tr>\n",
              "      <th>min</th>\n",
              "      <td>0.000000e+00</td>\n",
              "    </tr>\n",
              "    <tr>\n",
              "      <th>25%</th>\n",
              "      <td>4.400000e+01</td>\n",
              "    </tr>\n",
              "    <tr>\n",
              "      <th>50%</th>\n",
              "      <td>2.010000e+02</td>\n",
              "    </tr>\n",
              "    <tr>\n",
              "      <th>75%</th>\n",
              "      <td>1.201000e+03</td>\n",
              "    </tr>\n",
              "    <tr>\n",
              "      <th>max</th>\n",
              "      <td>2.413135e+07</td>\n",
              "    </tr>\n",
              "  </tbody>\n",
              "</table>\n",
              "</div>"
            ],
            "text/plain": [
              "       user_followers\n",
              "count    2.339114e+06\n",
              "mean     8.607641e+03\n",
              "std      1.096670e+05\n",
              "min      0.000000e+00\n",
              "25%      4.400000e+01\n",
              "50%      2.010000e+02\n",
              "75%      1.201000e+03\n",
              "max      2.413135e+07"
            ]
          },
          "execution_count": 20,
          "metadata": {},
          "output_type": "execute_result"
        }
      ],
      "source": [
        "Tweets.describe()"
      ]
    },
    {
      "cell_type": "markdown",
      "id": "fc8f2681",
      "metadata": {
        "id": "fc8f2681"
      },
      "source": [
        "##### Removing unwanted values from Date Column"
      ]
    },
    {
      "cell_type": "code",
      "execution_count": null,
      "id": "ad8bd54b",
      "metadata": {
        "id": "ad8bd54b"
      },
      "outputs": [],
      "source": [
        "Tweets = Tweets[Tweets['date'].str.contains((\"BTC|cryptocurrency|btc|Bitcoin|bitcoin|eth|ETH\"))==False]"
      ]
    },
    {
      "cell_type": "markdown",
      "id": "cad137d6",
      "metadata": {
        "id": "cad137d6"
      },
      "source": [
        "##### Mutating Columns for Time, Month and Year of the Tweet"
      ]
    },
    {
      "cell_type": "code",
      "execution_count": null,
      "id": "b4b55fae",
      "metadata": {
        "id": "b4b55fae"
      },
      "outputs": [],
      "source": [
        "Tweets['date'] = pd.to_datetime(Tweets['date'])\n",
        "\n",
        "Tweets['Year'] = pd.DatetimeIndex(Tweets['date']).year\n",
        "Tweets['Month'] = pd.DatetimeIndex(Tweets['date']).month"
      ]
    },
    {
      "cell_type": "markdown",
      "id": "f8481799",
      "metadata": {
        "id": "f8481799"
      },
      "source": [
        "##### Checking the number of NA Values"
      ]
    },
    {
      "cell_type": "code",
      "execution_count": null,
      "id": "7a74083c",
      "metadata": {
        "id": "7a74083c",
        "outputId": "b98b0f2f-3c4e-4e06-b28d-2c42daeb2693"
      },
      "outputs": [
        {
          "data": {
            "text/plain": [
              "user_name                31\n",
              "user_location       1133881\n",
              "user_description     280966\n",
              "user_created              0\n",
              "user_followers            0\n",
              "user_friends              0\n",
              "user_favourites           0\n",
              "user_verified             0\n",
              "date                      0\n",
              "text                      0\n",
              "hashtags              17009\n",
              "source                 3566\n",
              "is_retweet              252\n",
              "Year                      0\n",
              "Month                     0\n",
              "dtype: int64"
            ]
          },
          "execution_count": 25,
          "metadata": {},
          "output_type": "execute_result"
        }
      ],
      "source": [
        "Tweets.isna().sum()"
      ]
    },
    {
      "cell_type": "markdown",
      "id": "3e67b7ed",
      "metadata": {
        "id": "3e67b7ed"
      },
      "source": [
        "##### Replacing all the nan values with Not Available, No Hashtags etc for better clarity"
      ]
    },
    {
      "cell_type": "code",
      "execution_count": null,
      "id": "aa7f6e2f",
      "metadata": {
        "id": "aa7f6e2f"
      },
      "outputs": [],
      "source": [
        "Tweets[\"user_location\"].fillna(\"Not Available\", inplace = True)\n",
        "Tweets[\"hashtags\"].fillna(\"No Hashtags\", inplace = True)\n",
        "Tweets[\"source\"].fillna(\"Not Available\", inplace = True)\n",
        "Tweets[\"user_description\"].fillna(\"Not Available\", inplace = True)\n",
        "Tweets[\"user_followers\"].fillna(Tweets['user_followers'].mean, inplace = True)\n",
        "Tweets[\"user_friends\"].fillna(Tweets['user_friends'].mean, inplace = True)\n",
        "Tweets[\"user_favourites\"].fillna(Tweets['user_favourites'].mean, inplace = True)\n",
        "\n",
        "#Here we are not cleaning the data for user_created,date as they are Datetime fields\n",
        "#Same goes for is_retweet as we will be using the column during visualization"
      ]
    },
    {
      "cell_type": "markdown",
      "id": "e638499c",
      "metadata": {
        "id": "e638499c"
      },
      "source": [
        "##### Drop rows with nan values based on user_name column"
      ]
    },
    {
      "cell_type": "code",
      "execution_count": null,
      "id": "4230df44",
      "metadata": {
        "id": "4230df44"
      },
      "outputs": [],
      "source": [
        "Tweets = Tweets.dropna(subset=['user_name'])"
      ]
    },
    {
      "cell_type": "markdown",
      "id": "ef3ae407",
      "metadata": {
        "id": "ef3ae407"
      },
      "source": [
        "##### Checking for Null Values after cleaning the data"
      ]
    },
    {
      "cell_type": "code",
      "execution_count": null,
      "id": "90b75ca0",
      "metadata": {
        "id": "90b75ca0",
        "outputId": "9c0059bf-85af-4be1-ea96-dedb43d414f7"
      },
      "outputs": [
        {
          "data": {
            "text/plain": [
              "user_name             0\n",
              "user_location         0\n",
              "user_description      0\n",
              "user_created          0\n",
              "user_followers        0\n",
              "user_friends          0\n",
              "user_favourites       0\n",
              "user_verified         0\n",
              "date                  0\n",
              "text                  0\n",
              "hashtags              0\n",
              "source                0\n",
              "is_retweet          252\n",
              "Year                  0\n",
              "Month                 0\n",
              "dtype: int64"
            ]
          },
          "execution_count": 28,
          "metadata": {},
          "output_type": "execute_result"
        }
      ],
      "source": [
        "Tweets.isna().sum()"
      ]
    },
    {
      "cell_type": "code",
      "execution_count": null,
      "id": "bea59d4e",
      "metadata": {
        "scrolled": true,
        "id": "bea59d4e",
        "outputId": "87275a84-2aee-4c78-c692-acfa5ade070f"
      },
      "outputs": [
        {
          "data": {
            "text/html": [
              "<div>\n",
              "<style scoped>\n",
              "    .dataframe tbody tr th:only-of-type {\n",
              "        vertical-align: middle;\n",
              "    }\n",
              "\n",
              "    .dataframe tbody tr th {\n",
              "        vertical-align: top;\n",
              "    }\n",
              "\n",
              "    .dataframe thead th {\n",
              "        text-align: right;\n",
              "    }\n",
              "</style>\n",
              "<table border=\"1\" class=\"dataframe\">\n",
              "  <thead>\n",
              "    <tr style=\"text-align: right;\">\n",
              "      <th></th>\n",
              "      <th>user_name</th>\n",
              "      <th>user_location</th>\n",
              "      <th>user_description</th>\n",
              "      <th>user_created</th>\n",
              "      <th>user_followers</th>\n",
              "      <th>user_friends</th>\n",
              "      <th>user_favourites</th>\n",
              "      <th>user_verified</th>\n",
              "      <th>date</th>\n",
              "      <th>text</th>\n",
              "      <th>hashtags</th>\n",
              "      <th>source</th>\n",
              "      <th>is_retweet</th>\n",
              "      <th>Year</th>\n",
              "      <th>Month</th>\n",
              "    </tr>\n",
              "  </thead>\n",
              "  <tbody>\n",
              "    <tr>\n",
              "      <th>0</th>\n",
              "      <td>DeSota Wilson</td>\n",
              "      <td>Atlanta, GA</td>\n",
              "      <td>Biz Consultant, real estate, fintech, startups...</td>\n",
              "      <td>2009-04-26 20:05:09</td>\n",
              "      <td>8534.0</td>\n",
              "      <td>7605</td>\n",
              "      <td>4838</td>\n",
              "      <td>False</td>\n",
              "      <td>2021-02-10 23:59:04</td>\n",
              "      <td>Blue Ridge Bank shares halted by NYSE after #b...</td>\n",
              "      <td>['bitcoin']</td>\n",
              "      <td>Twitter Web App</td>\n",
              "      <td>False</td>\n",
              "      <td>2021</td>\n",
              "      <td>2</td>\n",
              "    </tr>\n",
              "    <tr>\n",
              "      <th>1</th>\n",
              "      <td>CryptoND</td>\n",
              "      <td>Not Available</td>\n",
              "      <td>😎 BITCOINLIVE is a Dutch platform aimed at inf...</td>\n",
              "      <td>2019-10-17 20:12:10</td>\n",
              "      <td>6769.0</td>\n",
              "      <td>1532</td>\n",
              "      <td>25483</td>\n",
              "      <td>False</td>\n",
              "      <td>2021-02-10 23:58:48</td>\n",
              "      <td>😎 Today, that's this #Thursday, we will do a \"...</td>\n",
              "      <td>['Thursday', 'Btc', 'wallet', 'security']</td>\n",
              "      <td>Twitter for Android</td>\n",
              "      <td>False</td>\n",
              "      <td>2021</td>\n",
              "      <td>2</td>\n",
              "    </tr>\n",
              "    <tr>\n",
              "      <th>2</th>\n",
              "      <td>Tdlmatias</td>\n",
              "      <td>London, England</td>\n",
              "      <td>IM Academy : The best #forex, #SelfEducation, ...</td>\n",
              "      <td>2014-11-10 10:50:37</td>\n",
              "      <td>128.0</td>\n",
              "      <td>332</td>\n",
              "      <td>924</td>\n",
              "      <td>False</td>\n",
              "      <td>2021-02-10 23:54:48</td>\n",
              "      <td>Guys evening, I have read this article about B...</td>\n",
              "      <td>No Hashtags</td>\n",
              "      <td>Twitter Web App</td>\n",
              "      <td>False</td>\n",
              "      <td>2021</td>\n",
              "      <td>2</td>\n",
              "    </tr>\n",
              "    <tr>\n",
              "      <th>3</th>\n",
              "      <td>Crypto is the future</td>\n",
              "      <td>Not Available</td>\n",
              "      <td>I will post a lot of buying signals for BTC tr...</td>\n",
              "      <td>2019-09-28 16:48:12</td>\n",
              "      <td>625.0</td>\n",
              "      <td>129</td>\n",
              "      <td>14</td>\n",
              "      <td>False</td>\n",
              "      <td>2021-02-10 23:54:33</td>\n",
              "      <td>$BTC A big chance in a billion! Price: \\487264...</td>\n",
              "      <td>['Bitcoin', 'FX', 'BTC', 'crypto']</td>\n",
              "      <td>dlvr.it</td>\n",
              "      <td>False</td>\n",
              "      <td>2021</td>\n",
              "      <td>2</td>\n",
              "    </tr>\n",
              "    <tr>\n",
              "      <th>4</th>\n",
              "      <td>Alex Kirchmaier 🇦🇹🇸🇪 #FactsSuperspreader</td>\n",
              "      <td>Europa</td>\n",
              "      <td>Co-founder @RENJERJerky | Forbes 30Under30 | I...</td>\n",
              "      <td>2016-02-03 13:15:55</td>\n",
              "      <td>1249.0</td>\n",
              "      <td>1472</td>\n",
              "      <td>10482</td>\n",
              "      <td>False</td>\n",
              "      <td>2021-02-10 23:54:06</td>\n",
              "      <td>This network is secured by 9 508 nodes as of t...</td>\n",
              "      <td>['BTC']</td>\n",
              "      <td>Twitter Web App</td>\n",
              "      <td>False</td>\n",
              "      <td>2021</td>\n",
              "      <td>2</td>\n",
              "    </tr>\n",
              "  </tbody>\n",
              "</table>\n",
              "</div>"
            ],
            "text/plain": [
              "                                  user_name    user_location  \\\n",
              "0                             DeSota Wilson      Atlanta, GA   \n",
              "1                                  CryptoND    Not Available   \n",
              "2                                 Tdlmatias  London, England   \n",
              "3                      Crypto is the future    Not Available   \n",
              "4  Alex Kirchmaier 🇦🇹🇸🇪 #FactsSuperspreader           Europa   \n",
              "\n",
              "                                    user_description         user_created  \\\n",
              "0  Biz Consultant, real estate, fintech, startups...  2009-04-26 20:05:09   \n",
              "1  😎 BITCOINLIVE is a Dutch platform aimed at inf...  2019-10-17 20:12:10   \n",
              "2  IM Academy : The best #forex, #SelfEducation, ...  2014-11-10 10:50:37   \n",
              "3  I will post a lot of buying signals for BTC tr...  2019-09-28 16:48:12   \n",
              "4  Co-founder @RENJERJerky | Forbes 30Under30 | I...  2016-02-03 13:15:55   \n",
              "\n",
              "   user_followers user_friends user_favourites user_verified  \\\n",
              "0          8534.0         7605            4838         False   \n",
              "1          6769.0         1532           25483         False   \n",
              "2           128.0          332             924         False   \n",
              "3           625.0          129              14         False   \n",
              "4          1249.0         1472           10482         False   \n",
              "\n",
              "                 date                                               text  \\\n",
              "0 2021-02-10 23:59:04  Blue Ridge Bank shares halted by NYSE after #b...   \n",
              "1 2021-02-10 23:58:48  😎 Today, that's this #Thursday, we will do a \"...   \n",
              "2 2021-02-10 23:54:48  Guys evening, I have read this article about B...   \n",
              "3 2021-02-10 23:54:33  $BTC A big chance in a billion! Price: \\487264...   \n",
              "4 2021-02-10 23:54:06  This network is secured by 9 508 nodes as of t...   \n",
              "\n",
              "                                    hashtags               source is_retweet  \\\n",
              "0                                ['bitcoin']      Twitter Web App      False   \n",
              "1  ['Thursday', 'Btc', 'wallet', 'security']  Twitter for Android      False   \n",
              "2                                No Hashtags      Twitter Web App      False   \n",
              "3         ['Bitcoin', 'FX', 'BTC', 'crypto']              dlvr.it      False   \n",
              "4                                    ['BTC']      Twitter Web App      False   \n",
              "\n",
              "   Year  Month  \n",
              "0  2021      2  \n",
              "1  2021      2  \n",
              "2  2021      2  \n",
              "3  2021      2  \n",
              "4  2021      2  "
            ]
          },
          "execution_count": 29,
          "metadata": {},
          "output_type": "execute_result"
        }
      ],
      "source": [
        "Tweets.head()"
      ]
    },
    {
      "cell_type": "code",
      "execution_count": null,
      "id": "0e5cd10c-7e31-461f-9959-4ff18e1fc220",
      "metadata": {
        "id": "0e5cd10c-7e31-461f-9959-4ff18e1fc220"
      },
      "outputs": [],
      "source": [
        "# Exporting the cleaned Dataframe\n",
        "\n",
        "Tweets.to_csv('Cleaned_Tweets.csv')"
      ]
    },
    {
      "cell_type": "code",
      "execution_count": null,
      "id": "10666358-841b-4722-814f-320e1c989b4a",
      "metadata": {
        "tags": [],
        "id": "10666358-841b-4722-814f-320e1c989b4a"
      },
      "outputs": [],
      "source": [
        "# Plotting the Candle Stick Data on Monthly Basis\n",
        "\n",
        "#Resampling the Daily Data to Monthly\n"
      ]
    },
    {
      "cell_type": "code",
      "execution_count": null,
      "id": "04bfed8d-271f-4845-a442-958f99aa7122",
      "metadata": {
        "id": "04bfed8d-271f-4845-a442-958f99aa7122"
      },
      "outputs": [],
      "source": [
        "# Monthly = BTC_Price.resample('M').mean()\n",
        "\n",
        "Data365 = BTC_Price[~(BTC_Price['Date'] < '2021-08-28')]\n",
        "\n",
        "Data365.set_index('Date', inplace=True)\n",
        "\n",
        "# For Monthly and change year to 2020 above\n",
        "# Data365.resample('M')"
      ]
    },
    {
      "cell_type": "code",
      "execution_count": null,
      "id": "c51bc778-be20-4aba-88bd-cd338cf8ded6",
      "metadata": {
        "id": "c51bc778-be20-4aba-88bd-cd338cf8ded6"
      },
      "outputs": [],
      "source": [
        "BTC_Price = pd.read_csv('Cleaned_Price.csv', index_col=[0])\n",
        "BTC_Price['Date'] = pd.to_datetime(BTC_Price['Date'])"
      ]
    },
    {
      "cell_type": "code",
      "execution_count": null,
      "id": "4248fd08-e880-4a63-8b3e-c33050a19530",
      "metadata": {
        "id": "4248fd08-e880-4a63-8b3e-c33050a19530",
        "outputId": "15238066-2a8b-4d02-fd37-2c51c440a4fd"
      },
      "outputs": [
        {
          "data": {
            "image/png": "[encoded data removed]",
            "text/plain": [
              "<Figure size 1725x575 with 4 Axes>"
            ]
          },
          "metadata": {},
          "output_type": "display_data"
        }
      ],
      "source": [
        "mpf.plot(Data365[-185:-1], type='candle', volume=True, figratio=(21, 7), style='yahoo', mav=(6, 15), title='Bitcoin Price Trend in the last 6 Months \\n with Volume and 6 & 15 Day Moving Averages')"
      ]
    },
    {
      "cell_type": "code",
      "execution_count": null,
      "id": "8603361b-f5e1-4775-bac1-ae4e26fa9ce5",
      "metadata": {
        "id": "8603361b-f5e1-4775-bac1-ae4e26fa9ce5"
      },
      "outputs": [],
      "source": [
        "User_Data = Tweets[['user_friends','user_followers']]\n",
        "\n",
        "User_Data.to_csv('User_Data.csv')"
      ]
    }
  ],
  "metadata": {
    "kernelspec": {
      "display_name": "Python 3 (ipykernel)",
      "language": "python",
      "name": "python3"
    },
    "language_info": {
      "codemirror_mode": {
        "name": "ipython",
        "version": 3
      },
      "file_extension": ".py",
      "mimetype": "text/x-python",
      "name": "python",
      "nbconvert_exporter": "python",
      "pygments_lexer": "ipython3",
      "version": "3.9.7"
    },
    "colab": {
      "name": "IE7275 Project - Group 24 - Data Preprocessing 1.ipynb",
      "provenance": []
    }
  },
  "nbformat": 4,
  "nbformat_minor": 5
}